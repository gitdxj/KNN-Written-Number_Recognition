{
 "cells": [
  {
   "cell_type": "markdown",
   "metadata": {},
   "source": [
    "# Nearest Neighbor Classifier"
   ]
  },
  {
   "cell_type": "code",
   "execution_count": 1,
   "metadata": {},
   "outputs": [],
   "source": [
    "import numpy as np\n",
    "import matplotlib.pyplot as plt"
   ]
  },
  {
   "cell_type": "markdown",
   "metadata": {},
   "source": [
    "## 3.1 Exploring the Data"
   ]
  },
  {
   "cell_type": "code",
   "execution_count": 2,
   "metadata": {},
   "outputs": [
    {
     "name": "stdout",
     "output_type": "stream",
     "text": [
      "dict_keys(['data', 'target', 'target_names', 'images', 'DESCR'])\n"
     ]
    }
   ],
   "source": [
    "# load dataset from from sklearn\n",
    "from sklearn.datasets import load_digits\n",
    "digits = load_digits()\n",
    "print(digits.keys())"
   ]
  },
  {
   "cell_type": "code",
   "execution_count": 39,
   "metadata": {},
   "outputs": [
    {
     "name": "stdout",
     "output_type": "stream",
     "text": [
      "<class 'sklearn.utils.Bunch'>\n",
      "(1797, 64)\n",
      "float64\n",
      "(1797,)\n"
     ]
    }
   ],
   "source": [
    "print(type(digits))\n",
    "print(digits.data.shape)\n",
    "print(digits.data.dtype)\n",
    "print(digits.target.shape)"
   ]
  },
  {
   "cell_type": "code",
   "execution_count": 32,
   "metadata": {},
   "outputs": [
    {
     "data": {
      "image/png": "[encoded data removed]",
      "text/plain": [
       "<Figure size 432x288 with 1 Axes>"
      ]
     },
     "metadata": {
      "needs_background": "light"
     },
     "output_type": "display_data"
    },
    {
     "data": {
      "image/png": "[encoded data removed]",
      "text/plain": [
       "<Figure size 432x288 with 1 Axes>"
      ]
     },
     "metadata": {
      "needs_background": "light"
     },
     "output_type": "display_data"
    }
   ],
   "source": [
    "# visualize one image of a 3\n",
    "def show_a_3(digits):\n",
    "    n = digits.target.shape[0]\n",
    "    for i in range(n):\n",
    "        # find an image of number 3\n",
    "        if digits.target[i] == 3:\n",
    "            plt.figure()\n",
    "            plt.gray()\n",
    "            plt.imshow(digits.images[i], interpolation=\"nearest\")\n",
    "            plt.title(\"nearest\")\n",
    "            plt.show()\n",
    "            plt.imshow(digits.images[i], interpolation=\"bicubic\")\n",
    "            plt.title(\"bicubic\")\n",
    "            plt.show()\n",
    "            return\n",
    "\n",
    "show_a_3(digits)"
   ]
  },
  {
   "cell_type": "markdown",
   "metadata": {},
   "source": [
    "## 3.2 Distance function  computation using loops"
   ]
  },
  {
   "cell_type": "code",
   "execution_count": 37,
   "metadata": {},
   "outputs": [
    {
     "name": "stdout",
     "output_type": "stream",
     "text": [
      "[[1.73205081 1.73205081 1.73205081]\n",
      " [1.73205081 1.73205081 1.73205081]]\n"
     ]
    }
   ],
   "source": [
    "def dist_loop(training, test):\n",
    "    \"\"\"\n",
    "    calculate the distance between instances in test set and training set\n",
    "    Args:\n",
    "        training: N*D matrix, and D is the number of pixels in one image\n",
    "        test: M*D matrix\n",
    "    Returns:\n",
    "        distances: N*M matrix, and distances[i][j] is the distance between training[i] and test[j]\n",
    "    \"\"\"\n",
    "    N = training.shape[0]\n",
    "    M = test.shape[0]\n",
    "    distances = np.zeros((N,M))\n",
    "    for i in range(N):\n",
    "        for j in range(M):\n",
    "            vec_i = training[i]\n",
    "            vec_j = test[j]\n",
    "            distances[i][j] = np.linalg.norm(np.subtract(vec_i, vec_j))\n",
    "    return distances\n",
    "    "
   ]
  },
  {
   "cell_type": "markdown",
   "metadata": {},
   "source": [
    "## 3.3 Distance function computation using vectorization"
   ]
  },
  {
   "cell_type": "code",
   "execution_count": 61,
   "metadata": {},
   "outputs": [],
   "source": [
    "# todo\n",
    "def dist_vec(training, test):\n",
    "    return dist_loop(training, test)"
   ]
  },
  {
   "cell_type": "markdown",
   "metadata": {},
   "source": [
    "## 3.4 Implement K-Nearest Neighbor classifier"
   ]
  },
  {
   "cell_type": "code",
   "execution_count": 59,
   "metadata": {},
   "outputs": [],
   "source": [
    "from sklearn import model_selection\n",
    "X_all = digits.data\n",
    "Y_all = digits.target\n",
    "X_train, X_test, Y_train, Y_test = model_selection.train_test_split(X_all, Y_all, test_size=0.2, random_state=0)"
   ]
  },
  {
   "cell_type": "code",
   "execution_count": 64,
   "metadata": {},
   "outputs": [
    {
     "name": "stdout",
     "output_type": "stream",
     "text": [
      "0.016666666666666666\n",
      "0.025\n",
      "0.027777777777777776\n",
      "0.041666666666666664\n"
     ]
    }
   ],
   "source": [
    "def init_dict():\n",
    "    dct = dict()\n",
    "    for i in range(10):\n",
    "        dct[i] = 0\n",
    "    return dct\n",
    "\n",
    "def pick_highest_freq(dct):\n",
    "    index = 0\n",
    "    maximum = 0\n",
    "    for i in range(10):\n",
    "        if dct[i]>maximum:\n",
    "            index = i\n",
    "            maximum = dct[i]\n",
    "    return index\n",
    "\n",
    "\n",
    "def arg_topK(distances, K, axis=0):\n",
    "    \"\"\"\n",
    "    Args:\n",
    "        distances: N*M\n",
    "        K\n",
    "        axis\n",
    "    Returns:\n",
    "        topK: K*M matrix, and topK[:, j]: the top K nearest neighbor of test[j]\n",
    "    \"\"\"\n",
    "    full_sort = np.argsort(distances, axis)\n",
    "    return full_sort.take(np.arange(K), axis)\n",
    "\n",
    "def KNN_classifier(X_train, X_test, Y_train, Y_test, K):\n",
    "    # compute the distance matrix\n",
    "    distances = dist_vec(X_train, X_test)  # distances[i][j]: distance of test[j] to train[i]\n",
    "    # select top K nearest neighbors of every test image in the training set\n",
    "    topK = arg_topK(distances, K, axis=0)  # topK: matrix K*M\n",
    "    Y_pred = np.zeros(Y_test.shape)\n",
    "    for i in range(Y_test.shape[0]):\n",
    "        nearest_neighbors = topK[:, i] # nearest neighbors of test[i]\n",
    "        # pick the most frequently appeared number as prediction\n",
    "        dct = init_dict()\n",
    "        for index in nearest_neighbors:\n",
    "            y = Y_train[index]\n",
    "            dct[y] = dct[y] + 1\n",
    "        Y_pred[i] = pick_highest_freq(dct)\n",
    "    return Y_pred\n",
    "\n",
    "\n",
    "def cal_err(Y_test, Y_pred):\n",
    "    return np.sum(np.subtract(Y_test, Y_pred)!=0)/Y_pred.size\n",
    "\n",
    "def test(K):\n",
    "    Y_pred = KNN_classifier(X_train, X_test, Y_train, Y_test, K)\n",
    "    err = cal_err(Y_test, Y_pred)\n",
    "    print(err)\n",
    "\n",
    "test(3)\n",
    "test(5)\n",
    "test(11)\n",
    "test(30)"
   ]
  },
  {
   "cell_type": "code",
   "execution_count": null,
   "metadata": {},
   "outputs": [],
   "source": []
  }
 ],
 "metadata": {
  "kernelspec": {
   "display_name": "Python 3",
   "language": "python",
   "name": "python3"
  },
  "language_info": {
   "codemirror_mode": {
    "name": "ipython",
    "version": 3
   },
   "file_extension": ".py",
   "mimetype": "text/x-python",
   "name": "python",
   "nbconvert_exporter": "python",
   "pygments_lexer": "ipython3",
   "version": "3.7.6"
  }
 },
 "nbformat": 4,
 "nbformat_minor": 4
}
